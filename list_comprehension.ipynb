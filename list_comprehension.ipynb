{
  "nbformat": 4,
  "nbformat_minor": 0,
  "metadata": {
    "kernelspec": {
      "display_name": "Python 3",
      "language": "python",
      "name": "python3"
    },
    "language_info": {
      "codemirror_mode": {
        "name": "ipython",
        "version": 3
      },
      "file_extension": ".py",
      "mimetype": "text/x-python",
      "name": "python",
      "nbconvert_exporter": "python",
      "pygments_lexer": "ipython3",
      "version": "3.7.3"
    },
    "colab": {
      "name": "list_comprehension.ipynb",
      "provenance": [],
      "collapsed_sections": [],
      "include_colab_link": true
    }
  },
  "cells": [
    {
      "cell_type": "markdown",
      "metadata": {
        "id": "view-in-github",
        "colab_type": "text"
      },
      "source": [
        "<a href=\"https://colab.research.google.com/github/wallisonferreira/python-basics/blob/master/list_comprehension.ipynb\" target=\"_parent\"><img src=\"https://colab.research.google.com/assets/colab-badge.svg\" alt=\"Open In Colab\"/></a>"
      ]
    },
    {
      "cell_type": "markdown",
      "metadata": {
        "id": "cfuN1btMQJzi",
        "colab_type": "text"
      },
      "source": [
        "# List comprehension é uma das maneiras que o python permite para criar uma lista baseada em uma lista existente."
      ]
    },
    {
      "cell_type": "markdown",
      "metadata": {
        "id": "kfRWu9boXuwf",
        "colab_type": "text"
      },
      "source": [
        "Podemos criar uma lista elevando cada valor de outra lista ao quadrado."
      ]
    },
    {
      "cell_type": "code",
      "metadata": {
        "id": "pzY_u11gPXZQ",
        "colab_type": "code",
        "colab": {
          "base_uri": "https://localhost:8080/",
          "height": 34
        },
        "outputId": "9d95f02b-4ab5-4a61-f41f-0d7778def9ec"
      },
      "source": [
        "# cria uma lista [0,1,2,3,4,5,6,7,8,9]\n",
        "numbers = range(10)\n",
        "\n",
        "# cria uma lista vazia\n",
        "squares = []\n",
        "\n",
        "# para cada number, adiciona sua potência 2 ao square\n",
        "for number in numbers:\n",
        "    square = number**2\n",
        "    squares.append(square)\n",
        "    \n",
        "print(squares)"
      ],
      "execution_count": 2,
      "outputs": [
        {
          "output_type": "stream",
          "text": [
            "[0, 1, 4, 9, 16, 25, 36, 49, 64, 81]\n"
          ],
          "name": "stdout"
        }
      ]
    },
    {
      "cell_type": "markdown",
      "metadata": {
        "id": "88kyW2CaSyBc",
        "colab_type": "text"
      },
      "source": [
        "No entanto, podemos fazer o mesmo em uma list comprehension da seguinte forma."
      ]
    },
    {
      "cell_type": "code",
      "metadata": {
        "id": "xGbAECxEPXcl",
        "colab_type": "code",
        "colab": {},
        "outputId": "3f1a4536-66b9-4f1f-beae-e607be1d3f81"
      },
      "source": [
        "# squares = [número elevado ao quadrado para cada número da lista números]\n",
        "squares = [number**2 for number in numbers]\n",
        "\n",
        "squares"
      ],
      "execution_count": null,
      "outputs": [
        {
          "output_type": "execute_result",
          "data": {
            "text/plain": [
              "[0, 1, 4, 9, 16, 25, 36, 49, 64, 81]"
            ]
          },
          "metadata": {
            "tags": []
          },
          "execution_count": 6
        }
      ]
    },
    {
      "cell_type": "markdown",
      "metadata": {
        "id": "tM_USfOyTWok",
        "colab_type": "text"
      },
      "source": [
        "Podemos também acrescentar condições para delimitar o quê e como será formado a nossa lista."
      ]
    },
    {
      "cell_type": "code",
      "metadata": {
        "id": "6cDEhfu5PXcu",
        "colab_type": "code",
        "colab": {},
        "outputId": "b9a2eb74-e596-4bcf-f928-9ee6f7f75ab2"
      },
      "source": [
        "# imprime apenas os números pares dentre [0,1,2,...,8,9]\n",
        "even = [i for i in range(10) if(i%2 == 0)]\n",
        "\n",
        "even"
      ],
      "execution_count": null,
      "outputs": [
        {
          "output_type": "execute_result",
          "data": {
            "text/plain": [
              "[0, 2, 4, 6, 8]"
            ]
          },
          "metadata": {
            "tags": []
          },
          "execution_count": 11
        }
      ]
    },
    {
      "cell_type": "code",
      "metadata": {
        "id": "qivbojjWPXc4",
        "colab_type": "code",
        "colab": {},
        "outputId": "6e4d2599-d7ac-437b-f356-83e84353ae55"
      },
      "source": [
        "# somando todos os valores formados pela list comprehension\n",
        "sum([i for i in range(10) if(i%2 == 0)])"
      ],
      "execution_count": null,
      "outputs": [
        {
          "output_type": "execute_result",
          "data": {
            "text/plain": [
              "20"
            ]
          },
          "metadata": {
            "tags": []
          },
          "execution_count": 12
        }
      ]
    }
  ]
}