{
  "nbformat": 4,
  "nbformat_minor": 0,
  "metadata": {
    "colab": {
      "name": "sentiment_analysis_twiiter.ipynb",
      "provenance": [],
      "collapsed_sections": [],
      "mount_file_id": "1iNEBqye6BNdbz0OTXb4sN5JxICZZmtL9",
      "authorship_tag": "ABX9TyNc8Jy7gqu2+ycEnNN3fftz",
      "include_colab_link": true
    },
    "kernelspec": {
      "name": "python3",
      "display_name": "Python 3"
    },
    "language_info": {
      "name": "python"
    }
  },
  "cells": [
    {
      "cell_type": "markdown",
      "metadata": {
        "id": "view-in-github",
        "colab_type": "text"
      },
      "source": [
        "<a href=\"https://colab.research.google.com/github/wallisonferreira/python-basics/blob/master/sentiment_analysis_twiiter.ipynb\" target=\"_parent\"><img src=\"https://colab.research.google.com/assets/colab-badge.svg\" alt=\"Open In Colab\"/></a>"
      ]
    },
    {
      "cell_type": "code",
      "metadata": {
        "id": "40UfR1Mr1wIY"
      },
      "source": [
        "from textblob import TextBlob\n",
        "import tweepy\n",
        "import sys\n",
        "sys.path.insert(1, '/content/drive/MyDrive/JupyterNotebooks/JupyterEnviroments/JupyterConfig')\n",
        "import twitter_config\n",
        "import pandas as pd\n",
        "import numpy as np\n",
        "import textblob.exceptions"
      ],
      "execution_count": 1,
      "outputs": []
    },
    {
      "cell_type": "code",
      "metadata": {
        "colab": {
          "base_uri": "https://localhost:8080/"
        },
        "id": "v0jRyg4v6Uc2",
        "outputId": "e9dc6202-87df-4065-cd2f-021331c22896"
      },
      "source": [
        "!pip install googletrans\n",
        "import googletrans"
      ],
      "execution_count": 54,
      "outputs": [
        {
          "output_type": "stream",
          "text": [
            "Requirement already satisfied: googletrans in /usr/local/lib/python3.7/dist-packages (3.0.0)\n",
            "Requirement already satisfied: httpx==0.13.3 in /usr/local/lib/python3.7/dist-packages (from googletrans) (0.13.3)\n",
            "Requirement already satisfied: sniffio in /usr/local/lib/python3.7/dist-packages (from httpx==0.13.3->googletrans) (1.2.0)\n",
            "Requirement already satisfied: certifi in /usr/local/lib/python3.7/dist-packages (from httpx==0.13.3->googletrans) (2020.12.5)\n",
            "Requirement already satisfied: chardet==3.* in /usr/local/lib/python3.7/dist-packages (from httpx==0.13.3->googletrans) (3.0.4)\n",
            "Requirement already satisfied: rfc3986<2,>=1.3 in /usr/local/lib/python3.7/dist-packages (from httpx==0.13.3->googletrans) (1.4.0)\n",
            "Requirement already satisfied: httpcore==0.9.* in /usr/local/lib/python3.7/dist-packages (from httpx==0.13.3->googletrans) (0.9.1)\n",
            "Requirement already satisfied: hstspreload in /usr/local/lib/python3.7/dist-packages (from httpx==0.13.3->googletrans) (2020.12.22)\n",
            "Requirement already satisfied: idna==2.* in /usr/local/lib/python3.7/dist-packages (from httpx==0.13.3->googletrans) (2.10)\n",
            "Requirement already satisfied: h11<0.10,>=0.8 in /usr/local/lib/python3.7/dist-packages (from httpcore==0.9.*->httpx==0.13.3->googletrans) (0.9.0)\n",
            "Requirement already satisfied: h2==3.* in /usr/local/lib/python3.7/dist-packages (from httpcore==0.9.*->httpx==0.13.3->googletrans) (3.2.0)\n",
            "Requirement already satisfied: hyperframe<6,>=5.2.0 in /usr/local/lib/python3.7/dist-packages (from h2==3.*->httpcore==0.9.*->httpx==0.13.3->googletrans) (5.2.0)\n",
            "Requirement already satisfied: hpack<4,>=3.0 in /usr/local/lib/python3.7/dist-packages (from h2==3.*->httpcore==0.9.*->httpx==0.13.3->googletrans) (3.0.0)\n"
          ],
          "name": "stdout"
        }
      ]
    },
    {
      "cell_type": "code",
      "metadata": {
        "id": "avi8DsKJ3bnM"
      },
      "source": [
        "consumer_key = twitter_config.twitter_client['consumer_key']\n",
        "consumer_secret = twitter_config.twitter_client['consumer_secret']\n",
        "access_token = twitter_config.twitter_client['access_token']\n",
        "access_token_secret = twitter_config.twitter_client['access_token_secret']"
      ],
      "execution_count": 2,
      "outputs": []
    },
    {
      "cell_type": "code",
      "metadata": {
        "id": "YnauxPP43dKr"
      },
      "source": [
        "auth = tweepy.OAuthHandler(consumer_key, consumer_secret)\n",
        "auth.set_access_token(access_token, access_token_secret)\n",
        "api = tweepy.API(auth)"
      ],
      "execution_count": 3,
      "outputs": []
    },
    {
      "cell_type": "code",
      "metadata": {
        "id": "kWKiXL7T7e7_"
      },
      "source": [
        "tweets = api.search('@recantoac', result_type=\"recent\", count=100)"
      ],
      "execution_count": 4,
      "outputs": []
    },
    {
      "cell_type": "code",
      "metadata": {
        "id": "rRuc2BAoQ06x"
      },
      "source": [
        "list_tweets = []"
      ],
      "execution_count": 7,
      "outputs": []
    },
    {
      "cell_type": "code",
      "metadata": {
        "id": "qo487mn7LakT"
      },
      "source": [
        "for tweet in tweets:\n",
        "        list_tweets.append({\n",
        "            'id_str':tweet.id_str, \n",
        "            'created_at' :tweet.created_at,\n",
        "            'is_reply': tweet.in_reply_to_screen_name=='None',\n",
        "            'is_reply_to_owner': tweet.in_reply_to_screen_name=='recantoac',\n",
        "            \"by\": tweet.user.screen_name,\n",
        "            \"from\": tweet.user.location,\n",
        "            \"strength followers\": tweet.user.followers_count,\n",
        "            'text': tweet.text, \n",
        "        })"
      ],
      "execution_count": 8,
      "outputs": []
    },
    {
      "cell_type": "code",
      "metadata": {
        "id": "oogvNFovSowM"
      },
      "source": [
        "df = pd.DataFrame(list_tweets)"
      ],
      "execution_count": 9,
      "outputs": []
    },
    {
      "cell_type": "code",
      "metadata": {
        "id": "6bAlo1BUBnFs"
      },
      "source": [
        "import textblob.exceptions"
      ],
      "execution_count": 72,
      "outputs": []
    },
    {
      "cell_type": "code",
      "metadata": {
        "id": "b31pilds9h89"
      },
      "source": [
        "def process(frase):\n",
        "    frase = TextBlob(frase)\n",
        "    if frase.detect_language() != 'en':\n",
        "        try:\n",
        "            traducao = TextBlob(str(frase.translate(to='en')))\n",
        "            print('Tweet: {0} - Sentimento: {1}'.format(traducao, traducao.sentiment))\n",
        "            return traducao.sentiment\n",
        "        except textblob.exceptions.TranslatorError:\n",
        "            return frase.sentiment\n",
        "    else:\n",
        "        print('Tweet: {0} - Sentimento: {1}'.format(frase, frase.sentiment))\n",
        "        return frase.sentiment"
      ],
      "execution_count": 74,
      "outputs": []
    },
    {
      "cell_type": "code",
      "metadata": {
        "id": "JS4RX5Y47poF"
      },
      "source": [
        "df['sentiment'] = df.text.apply(lambda x: process(x))\n",
        "df['polarity'] = df.sentiment.apply(lambda x: x.polarity)\n",
        "df['subjectivity'] = df.sentiment.apply(lambda x: x.subjectivity)"
      ],
      "execution_count": null,
      "outputs": []
    },
    {
      "cell_type": "code",
      "metadata": {
        "colab": {
          "base_uri": "https://localhost:8080/",
          "height": 419
        },
        "id": "JEOhDKOtFU6m",
        "outputId": "34c6ef03-c428-4e1a-e418-e01d94238d33"
      },
      "source": [
        "df[['text','subjectivity','sentiment']]"
      ],
      "execution_count": 101,
      "outputs": [
        {
          "output_type": "execute_result",
          "data": {
            "text/html": [
              "<div>\n",
              "<style scoped>\n",
              "    .dataframe tbody tr th:only-of-type {\n",
              "        vertical-align: middle;\n",
              "    }\n",
              "\n",
              "    .dataframe tbody tr th {\n",
              "        vertical-align: top;\n",
              "    }\n",
              "\n",
              "    .dataframe thead th {\n",
              "        text-align: right;\n",
              "    }\n",
              "</style>\n",
              "<table border=\"1\" class=\"dataframe\">\n",
              "  <thead>\n",
              "    <tr style=\"text-align: right;\">\n",
              "      <th></th>\n",
              "      <th>text</th>\n",
              "      <th>subjectivity</th>\n",
              "      <th>sentiment</th>\n",
              "    </tr>\n",
              "  </thead>\n",
              "  <tbody>\n",
              "    <tr>\n",
              "      <th>0</th>\n",
              "      <td>RT @recantoac: Para participar basta você:\\n- ...</td>\n",
              "      <td>0.000000</td>\n",
              "      <td>(0.0, 0.0)</td>\n",
              "    </tr>\n",
              "    <tr>\n",
              "      <th>1</th>\n",
              "      <td>RT @recantoac: Para participar basta você:\\n- ...</td>\n",
              "      <td>0.000000</td>\n",
              "      <td>(0.0, 0.0)</td>\n",
              "    </tr>\n",
              "    <tr>\n",
              "      <th>2</th>\n",
              "      <td>RT @recantoac: Para participar basta você:\\n- ...</td>\n",
              "      <td>0.000000</td>\n",
              "      <td>(0.0, 0.0)</td>\n",
              "    </tr>\n",
              "    <tr>\n",
              "      <th>3</th>\n",
              "      <td>RT @recantoac: Para participar basta você:\\n- ...</td>\n",
              "      <td>0.000000</td>\n",
              "      <td>(0.0, 0.0)</td>\n",
              "    </tr>\n",
              "    <tr>\n",
              "      <th>4</th>\n",
              "      <td>RT @recantoac: Para participar basta você:\\n- ...</td>\n",
              "      <td>0.000000</td>\n",
              "      <td>(0.0, 0.0)</td>\n",
              "    </tr>\n",
              "    <tr>\n",
              "      <th>...</th>\n",
              "      <td>...</td>\n",
              "      <td>...</td>\n",
              "      <td>...</td>\n",
              "    </tr>\n",
              "    <tr>\n",
              "      <th>95</th>\n",
              "      <td>@recantoac Portal da Amazônia 🥺</td>\n",
              "      <td>0.000000</td>\n",
              "      <td>(0.0, 0.0)</td>\n",
              "    </tr>\n",
              "    <tr>\n",
              "      <th>96</th>\n",
              "      <td>RT @recantoac: Hey, linduxos, a partir de terç...</td>\n",
              "      <td>0.300000</td>\n",
              "      <td>(0.25, 0.3)</td>\n",
              "    </tr>\n",
              "    <tr>\n",
              "      <th>97</th>\n",
              "      <td>@recantoac Sobraaal</td>\n",
              "      <td>0.000000</td>\n",
              "      <td>(0.0, 0.0)</td>\n",
              "    </tr>\n",
              "    <tr>\n",
              "      <th>98</th>\n",
              "      <td>@recantoac @GabrielRBCO o melhor né o da “paz” 😝</td>\n",
              "      <td>0.417857</td>\n",
              "      <td>(0.6428571428571428, 0.4178571428571428)</td>\n",
              "    </tr>\n",
              "    <tr>\n",
              "      <th>99</th>\n",
              "      <td>@recantoac XAVIER MAIAAAAA</td>\n",
              "      <td>0.000000</td>\n",
              "      <td>(0.0, 0.0)</td>\n",
              "    </tr>\n",
              "  </tbody>\n",
              "</table>\n",
              "<p>100 rows × 3 columns</p>\n",
              "</div>"
            ],
            "text/plain": [
              "                                                 text  ...                                 sentiment\n",
              "0   RT @recantoac: Para participar basta você:\\n- ...  ...                                (0.0, 0.0)\n",
              "1   RT @recantoac: Para participar basta você:\\n- ...  ...                                (0.0, 0.0)\n",
              "2   RT @recantoac: Para participar basta você:\\n- ...  ...                                (0.0, 0.0)\n",
              "3   RT @recantoac: Para participar basta você:\\n- ...  ...                                (0.0, 0.0)\n",
              "4   RT @recantoac: Para participar basta você:\\n- ...  ...                                (0.0, 0.0)\n",
              "..                                                ...  ...                                       ...\n",
              "95                    @recantoac Portal da Amazônia 🥺  ...                                (0.0, 0.0)\n",
              "96  RT @recantoac: Hey, linduxos, a partir de terç...  ...                               (0.25, 0.3)\n",
              "97                                @recantoac Sobraaal  ...                                (0.0, 0.0)\n",
              "98   @recantoac @GabrielRBCO o melhor né o da “paz” 😝  ...  (0.6428571428571428, 0.4178571428571428)\n",
              "99                         @recantoac XAVIER MAIAAAAA  ...                                (0.0, 0.0)\n",
              "\n",
              "[100 rows x 3 columns]"
            ]
          },
          "metadata": {
            "tags": []
          },
          "execution_count": 101
        }
      ]
    }
  ]
}