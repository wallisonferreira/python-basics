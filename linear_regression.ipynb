{
  "nbformat": 4,
  "nbformat_minor": 0,
  "metadata": {
    "colab": {
      "name": "Predictive_modelling_linear_regression.ipynb",
      "provenance": [],
      "collapsed_sections": [],
      "mount_file_id": "1PpXeGccQcF99ZsASkfjhU5E2GChgbTx2",
      "authorship_tag": "ABX9TyMixC7DaLoRR8d5CI0jStzd",
      "include_colab_link": true
    },
    "kernelspec": {
      "name": "python3",
      "display_name": "Python 3"
    },
    "language_info": {
      "name": "python"
    }
  },
  "cells": [
    {
      "cell_type": "markdown",
      "metadata": {
        "id": "view-in-github",
        "colab_type": "text"
      },
      "source": [
        "<a href=\"https://colab.research.google.com/github/wallisonferreira/python-basics/blob/master/Predictive_modelling_linear_regression.ipynb\" target=\"_parent\"><img src=\"https://colab.research.google.com/assets/colab-badge.svg\" alt=\"Open In Colab\"/></a>"
      ]
    },
    {
      "cell_type": "code",
      "metadata": {
        "id": "ow9qwRhAw51T"
      },
      "source": [
        "import pandas as pd\n",
        "import numpy as np"
      ],
      "execution_count": 3,
      "outputs": []
    },
    {
      "cell_type": "code",
      "metadata": {
        "id": "9PCjXd06xvcN"
      },
      "source": [
        "df = pd.read_csv('/content/drive/MyDrive/Linear Regression ATH Course/RM1_M1_S01_DS1_Linear Regression.csv', sep=\";\")"
      ],
      "execution_count": 5,
      "outputs": []
    },
    {
      "cell_type": "code",
      "metadata": {
        "colab": {
          "base_uri": "https://localhost:8080/",
          "height": 204
        },
        "id": "NxQeioU_x4SG",
        "outputId": "0e4648c4-9ef8-4293-d70a-dd61b72276ce"
      },
      "source": [
        "df.head()"
      ],
      "execution_count": 7,
      "outputs": [
        {
          "output_type": "execute_result",
          "data": {
            "text/html": [
              "<div>\n",
              "<style scoped>\n",
              "    .dataframe tbody tr th:only-of-type {\n",
              "        vertical-align: middle;\n",
              "    }\n",
              "\n",
              "    .dataframe tbody tr th {\n",
              "        vertical-align: top;\n",
              "    }\n",
              "\n",
              "    .dataframe thead th {\n",
              "        text-align: right;\n",
              "    }\n",
              "</style>\n",
              "<table border=\"1\" class=\"dataframe\">\n",
              "  <thead>\n",
              "    <tr style=\"text-align: right;\">\n",
              "      <th></th>\n",
              "      <th>CLIENTNUM</th>\n",
              "      <th>Annual_Income</th>\n",
              "      <th>Age</th>\n",
              "      <th>Average_Monthly_Revenue</th>\n",
              "    </tr>\n",
              "  </thead>\n",
              "  <tbody>\n",
              "    <tr>\n",
              "      <th>0</th>\n",
              "      <td>373678</td>\n",
              "      <td>98000</td>\n",
              "      <td>27.225581</td>\n",
              "      <td>127.516737</td>\n",
              "    </tr>\n",
              "    <tr>\n",
              "      <th>1</th>\n",
              "      <td>216593</td>\n",
              "      <td>71500</td>\n",
              "      <td>26.586436</td>\n",
              "      <td>91.060867</td>\n",
              "    </tr>\n",
              "    <tr>\n",
              "      <th>2</th>\n",
              "      <td>346368</td>\n",
              "      <td>49100</td>\n",
              "      <td>18.338888</td>\n",
              "      <td>7.843565</td>\n",
              "    </tr>\n",
              "    <tr>\n",
              "      <th>3</th>\n",
              "      <td>261066</td>\n",
              "      <td>84000</td>\n",
              "      <td>24.216146</td>\n",
              "      <td>96.206097</td>\n",
              "    </tr>\n",
              "    <tr>\n",
              "      <th>4</th>\n",
              "      <td>788167</td>\n",
              "      <td>58000</td>\n",
              "      <td>21.267741</td>\n",
              "      <td>32.920307</td>\n",
              "    </tr>\n",
              "  </tbody>\n",
              "</table>\n",
              "</div>"
            ],
            "text/plain": [
              "   CLIENTNUM  Annual_Income        Age  Average_Monthly_Revenue\n",
              "0     373678          98000  27.225581               127.516737\n",
              "1     216593          71500  26.586436                91.060867\n",
              "2     346368          49100  18.338888                 7.843565\n",
              "3     261066          84000  24.216146                96.206097\n",
              "4     788167          58000  21.267741                32.920307"
            ]
          },
          "metadata": {
            "tags": []
          },
          "execution_count": 7
        }
      ]
    },
    {
      "cell_type": "markdown",
      "metadata": {
        "id": "iTOAsnfGzO6s"
      },
      "source": [
        "#####select two variables"
      ]
    },
    {
      "cell_type": "code",
      "metadata": {
        "id": "QrP2TAYDy0Sx"
      },
      "source": [
        "df_AI_AMR = df[['Annual_Income','Average_Monthly_Revenue']]\n",
        "x = df[['Annual_Income']]\n",
        "y = df[['Average_Monthly_Revenue']]"
      ],
      "execution_count": 4,
      "outputs": []
    },
    {
      "cell_type": "markdown",
      "metadata": {
        "id": "zNHMil3UzU0s"
      },
      "source": [
        "#####Calculates pearson correlation"
      ]
    },
    {
      "cell_type": "code",
      "metadata": {
        "colab": {
          "base_uri": "https://localhost:8080/",
          "height": 111
        },
        "id": "YuPAvU37x9Cv",
        "outputId": "b27a6d7a-b4eb-431b-84b7-18b7aab4641f"
      },
      "source": [
        "df_AI_AMR.corr(method='pearson')"
      ],
      "execution_count": 5,
      "outputs": [
        {
          "output_type": "execute_result",
          "data": {
            "text/html": [
              "<div>\n",
              "<style scoped>\n",
              "    .dataframe tbody tr th:only-of-type {\n",
              "        vertical-align: middle;\n",
              "    }\n",
              "\n",
              "    .dataframe tbody tr th {\n",
              "        vertical-align: top;\n",
              "    }\n",
              "\n",
              "    .dataframe thead th {\n",
              "        text-align: right;\n",
              "    }\n",
              "</style>\n",
              "<table border=\"1\" class=\"dataframe\">\n",
              "  <thead>\n",
              "    <tr style=\"text-align: right;\">\n",
              "      <th></th>\n",
              "      <th>Annual_Income</th>\n",
              "      <th>Average_Monthly_Revenue</th>\n",
              "    </tr>\n",
              "  </thead>\n",
              "  <tbody>\n",
              "    <tr>\n",
              "      <th>Annual_Income</th>\n",
              "      <td>1.000000</td>\n",
              "      <td>0.936403</td>\n",
              "    </tr>\n",
              "    <tr>\n",
              "      <th>Average_Monthly_Revenue</th>\n",
              "      <td>0.936403</td>\n",
              "      <td>1.000000</td>\n",
              "    </tr>\n",
              "  </tbody>\n",
              "</table>\n",
              "</div>"
            ],
            "text/plain": [
              "                         Annual_Income  Average_Monthly_Revenue\n",
              "Annual_Income                 1.000000                 0.936403\n",
              "Average_Monthly_Revenue       0.936403                 1.000000"
            ]
          },
          "metadata": {
            "tags": []
          },
          "execution_count": 5
        }
      ]
    },
    {
      "cell_type": "markdown",
      "metadata": {
        "id": "1Tr304i2C9wt"
      },
      "source": [
        "#####Predict y variable target from x in 5-ahead"
      ]
    },
    {
      "cell_type": "code",
      "metadata": {
        "id": "oSEte55qyWzz"
      },
      "source": [
        "from sklearn.linear_model import LinearRegression\n",
        "model = LinearRegression()\n",
        "model.fit(x, y)\n",
        "predicted = model.predict(x.head())\n",
        "predicted = predicted.reshape(-1)\n",
        "predict = list(predicted)\n",
        "target = y.head()\n",
        "prediction = pd.DataFrame({\"Average_Monthly_Revenue_Predicted\": predicted})\n",
        "compare = pd.concat([target, prediction], axis=1)"
      ],
      "execution_count": 39,
      "outputs": []
    },
    {
      "cell_type": "markdown",
      "metadata": {
        "id": "nkHU5IBnBRUX"
      },
      "source": [
        "#####Compare observed and predicted values"
      ]
    },
    {
      "cell_type": "code",
      "metadata": {
        "colab": {
          "base_uri": "https://localhost:8080/",
          "height": 204
        },
        "id": "ozGxrWcMBQsw",
        "outputId": "07b3815d-171d-48fc-817e-c016c8c9e9ad"
      },
      "source": [
        "compare"
      ],
      "execution_count": 40,
      "outputs": [
        {
          "output_type": "execute_result",
          "data": {
            "text/html": [
              "<div>\n",
              "<style scoped>\n",
              "    .dataframe tbody tr th:only-of-type {\n",
              "        vertical-align: middle;\n",
              "    }\n",
              "\n",
              "    .dataframe tbody tr th {\n",
              "        vertical-align: top;\n",
              "    }\n",
              "\n",
              "    .dataframe thead th {\n",
              "        text-align: right;\n",
              "    }\n",
              "</style>\n",
              "<table border=\"1\" class=\"dataframe\">\n",
              "  <thead>\n",
              "    <tr style=\"text-align: right;\">\n",
              "      <th></th>\n",
              "      <th>Average_Monthly_Revenue</th>\n",
              "      <th>Average_Monthly_Revenue_Predicted</th>\n",
              "    </tr>\n",
              "  </thead>\n",
              "  <tbody>\n",
              "    <tr>\n",
              "      <th>0</th>\n",
              "      <td>127.516737</td>\n",
              "      <td>134.629840</td>\n",
              "    </tr>\n",
              "    <tr>\n",
              "      <th>1</th>\n",
              "      <td>91.060867</td>\n",
              "      <td>76.155529</td>\n",
              "    </tr>\n",
              "    <tr>\n",
              "      <th>2</th>\n",
              "      <td>7.843565</td>\n",
              "      <td>26.728186</td>\n",
              "    </tr>\n",
              "    <tr>\n",
              "      <th>3</th>\n",
              "      <td>96.206097</td>\n",
              "      <td>103.737751</td>\n",
              "    </tr>\n",
              "    <tr>\n",
              "      <th>4</th>\n",
              "      <td>32.920307</td>\n",
              "      <td>46.366729</td>\n",
              "    </tr>\n",
              "  </tbody>\n",
              "</table>\n",
              "</div>"
            ],
            "text/plain": [
              "   Average_Monthly_Revenue  Average_Monthly_Revenue_Predicted\n",
              "0               127.516737                         134.629840\n",
              "1                91.060867                          76.155529\n",
              "2                 7.843565                          26.728186\n",
              "3                96.206097                         103.737751\n",
              "4                32.920307                          46.366729"
            ]
          },
          "metadata": {
            "tags": []
          },
          "execution_count": 40
        }
      ]
    },
    {
      "cell_type": "markdown",
      "metadata": {
        "id": "2vLjTX0MzOsG"
      },
      "source": [
        "##### Data Summary"
      ]
    },
    {
      "cell_type": "code",
      "metadata": {
        "colab": {
          "base_uri": "https://localhost:8080/"
        },
        "id": "ePpFUAeaCNXZ",
        "outputId": "c9027c37-699d-43a6-fb49-e50b679d8138"
      },
      "source": [
        "df.Average_Monthly_Revenue.describe()"
      ],
      "execution_count": 38,
      "outputs": [
        {
          "output_type": "execute_result",
          "data": {
            "text/plain": [
              "count    1500.000000\n",
              "mean       97.009454\n",
              "std        72.698244\n",
              "min       -59.205492\n",
              "25%        44.321019\n",
              "50%        85.178843\n",
              "75%       136.920919\n",
              "max       445.391560\n",
              "Name: Average_Monthly_Revenue, dtype: float64"
            ]
          },
          "metadata": {
            "tags": []
          },
          "execution_count": 38
        }
      ]
    },
    {
      "cell_type": "code",
      "metadata": {
        "id": "d6HFxbBIxUXB"
      },
      "source": [
        "mean = 97.009454"
      ],
      "execution_count": 1,
      "outputs": []
    },
    {
      "cell_type": "code",
      "metadata": {
        "id": "_zGBA5UYL-4f"
      },
      "source": [
        "df['Average_Monthly_Revenue_Mean'] = np.where(df['Average_Monthly_Revenue'] >= mean , \"OverTheMean\", \"UnderTheMean\")"
      ],
      "execution_count": 8,
      "outputs": []
    },
    {
      "cell_type": "code",
      "metadata": {
        "colab": {
          "base_uri": "https://localhost:8080/",
          "height": 204
        },
        "id": "Av1c4lRqxyh1",
        "outputId": "4b4b6b2f-93a9-4298-a83a-e2707d422d26"
      },
      "source": [
        "df.head()"
      ],
      "execution_count": 42,
      "outputs": [
        {
          "output_type": "execute_result",
          "data": {
            "text/html": [
              "<div>\n",
              "<style scoped>\n",
              "    .dataframe tbody tr th:only-of-type {\n",
              "        vertical-align: middle;\n",
              "    }\n",
              "\n",
              "    .dataframe tbody tr th {\n",
              "        vertical-align: top;\n",
              "    }\n",
              "\n",
              "    .dataframe thead th {\n",
              "        text-align: right;\n",
              "    }\n",
              "</style>\n",
              "<table border=\"1\" class=\"dataframe\">\n",
              "  <thead>\n",
              "    <tr style=\"text-align: right;\">\n",
              "      <th></th>\n",
              "      <th>CLIENTNUM</th>\n",
              "      <th>Annual_Income</th>\n",
              "      <th>Age</th>\n",
              "      <th>Average_Monthly_Revenue</th>\n",
              "      <th>Average_Monthly_Revenue_Mean</th>\n",
              "    </tr>\n",
              "  </thead>\n",
              "  <tbody>\n",
              "    <tr>\n",
              "      <th>0</th>\n",
              "      <td>373678</td>\n",
              "      <td>98000</td>\n",
              "      <td>27.225581</td>\n",
              "      <td>127.516737</td>\n",
              "      <td>OverTheMean</td>\n",
              "    </tr>\n",
              "    <tr>\n",
              "      <th>1</th>\n",
              "      <td>216593</td>\n",
              "      <td>71500</td>\n",
              "      <td>26.586436</td>\n",
              "      <td>91.060867</td>\n",
              "      <td>UnderTheMean</td>\n",
              "    </tr>\n",
              "    <tr>\n",
              "      <th>2</th>\n",
              "      <td>346368</td>\n",
              "      <td>49100</td>\n",
              "      <td>18.338888</td>\n",
              "      <td>7.843565</td>\n",
              "      <td>UnderTheMean</td>\n",
              "    </tr>\n",
              "    <tr>\n",
              "      <th>3</th>\n",
              "      <td>261066</td>\n",
              "      <td>84000</td>\n",
              "      <td>24.216146</td>\n",
              "      <td>96.206097</td>\n",
              "      <td>UnderTheMean</td>\n",
              "    </tr>\n",
              "    <tr>\n",
              "      <th>4</th>\n",
              "      <td>788167</td>\n",
              "      <td>58000</td>\n",
              "      <td>21.267741</td>\n",
              "      <td>32.920307</td>\n",
              "      <td>UnderTheMean</td>\n",
              "    </tr>\n",
              "  </tbody>\n",
              "</table>\n",
              "</div>"
            ],
            "text/plain": [
              "   CLIENTNUM  ...  Average_Monthly_Revenue_Mean\n",
              "0     373678  ...                   OverTheMean\n",
              "1     216593  ...                  UnderTheMean\n",
              "2     346368  ...                  UnderTheMean\n",
              "3     261066  ...                  UnderTheMean\n",
              "4     788167  ...                  UnderTheMean\n",
              "\n",
              "[5 rows x 5 columns]"
            ]
          },
          "metadata": {
            "tags": []
          },
          "execution_count": 42
        }
      ]
    },
    {
      "cell_type": "code",
      "metadata": {
        "colab": {
          "base_uri": "https://localhost:8080/",
          "height": 265
        },
        "id": "SUHDGqJVyLtS",
        "outputId": "11b083f2-82f0-4f04-be81-2ef45848aed7"
      },
      "source": [
        "df['Average_Monthly_Revenue'].plot.hist();"
      ],
      "execution_count": 37,
      "outputs": [
        {
          "output_type": "display_data",
          "data": {
            "image/png": "[encoded data removed]",
            "text/plain": [
              "<Figure size 432x288 with 1 Axes>"
            ]
          },
          "metadata": {
            "tags": [],
            "needs_background": "light"
          }
        }
      ]
    },
    {
      "cell_type": "code",
      "metadata": {
        "colab": {
          "base_uri": "https://localhost:8080/",
          "height": 265
        },
        "id": "REVrYLRu0Oj2",
        "outputId": "f74e4d26-9ac9-4712-cd3a-a0f98b9afa69"
      },
      "source": [
        "df['Average_Monthly_Revenue'].plot.density();"
      ],
      "execution_count": 38,
      "outputs": [
        {
          "output_type": "display_data",
          "data": {
            "image/png": "[encoded data removed]",
            "text/plain": [
              "<Figure size 432x288 with 1 Axes>"
            ]
          },
          "metadata": {
            "tags": [],
            "needs_background": "light"
          }
        }
      ]
    },
    {
      "cell_type": "code",
      "metadata": {
        "colab": {
          "base_uri": "https://localhost:8080/",
          "height": 266
        },
        "id": "pgmiYZCe0da8",
        "outputId": "4600671d-25a0-433e-a6d6-2d0db0df5b52"
      },
      "source": [
        "df['Average_Monthly_Revenue'].plot.box();"
      ],
      "execution_count": 41,
      "outputs": [
        {
          "output_type": "display_data",
          "data": {
            "image/png": "[encoded data removed]",
            "text/plain": [
              "<Figure size 432x288 with 1 Axes>"
            ]
          },
          "metadata": {
            "tags": [],
            "needs_background": "light"
          }
        }
      ]
    }
  ]
}
