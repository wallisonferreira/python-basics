{
  "nbformat": 4,
  "nbformat_minor": 0,
  "metadata": {
    "colab": {
      "name": "questions.ipynb",
      "provenance": [],
      "collapsed_sections": [],
      "authorship_tag": "ABX9TyPHKZXFVX0SM+ZN8xAzh54/",
      "include_colab_link": true
    },
    "kernelspec": {
      "name": "python3",
      "display_name": "Python 3"
    }
  },
  "cells": [
    {
      "cell_type": "markdown",
      "metadata": {
        "id": "view-in-github",
        "colab_type": "text"
      },
      "source": [
        "<a href=\"https://colab.research.google.com/github/wallisonferreira/python-basics/blob/master/questions.ipynb\" target=\"_parent\"><img src=\"https://colab.research.google.com/assets/colab-badge.svg\" alt=\"Open In Colab\"/></a>"
      ]
    },
    {
      "cell_type": "markdown",
      "metadata": {
        "id": "lzGLztCoqOLJ",
        "colab_type": "text"
      },
      "source": [
        "#### Compares two lists and checks whether they have the same values ​​at a given index and returns a list of those indexes whose values ​​are the same.\n",
        "\n",
        "given index and return a list of these index."
      ]
    },
    {
      "cell_type": "code",
      "metadata": {
        "id": "1IkBcI2smhY5",
        "colab_type": "code",
        "colab": {
          "base_uri": "https://localhost:8080/",
          "height": 34
        },
        "outputId": "34ecdcfd-9e8b-4775-f9eb-615c8750b671"
      },
      "source": [
        "def same_index_values(collection_1: a, collection_2: b)->list:\n",
        "  \"\"\"\n",
        "  Compares two lists and checks if they have the same values\n",
        "  at a given index.\n",
        "  Example: [1,2,3], [3,2,1] -> same values at index 1\n",
        "  :return: New list with index positions.\n",
        "  \"\"\"\n",
        "  res = []\n",
        "  for index, tpl in enumerate(zip(collection_1, collection_2)):\n",
        "    if (tpl[0] == tpl[1]):\n",
        "      res.append(index)\n",
        "  return res\n",
        "\n",
        "a,b = [3,4,6,7,1],[5,4,6,8,1]\n",
        "same_index_values(a, b)"
      ],
      "execution_count": 16,
      "outputs": [
        {
          "output_type": "execute_result",
          "data": {
            "text/plain": [
              "[1, 2, 4]"
            ]
          },
          "metadata": {
            "tags": []
          },
          "execution_count": 16
        }
      ]
    },
    {
      "cell_type": "markdown",
      "metadata": {
        "id": "ifgbxrmWqITE",
        "colab_type": "text"
      },
      "source": [
        ""
      ]
    }
  ]
}